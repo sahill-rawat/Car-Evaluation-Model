{
 "cells": [
  {
   "cell_type": "code",
   "execution_count": 3,
   "id": "54b24ed1",
   "metadata": {},
   "outputs": [],
   "source": [
    "import numpy as np\n",
    "import pandas as pd\n",
    "from sklearn import preprocessing\n",
    "from sklearn.neighbors import KNeighborsClassifier\n",
    "from sklearn.model_selection import train_test_split"
   ]
  },
  {
   "cell_type": "code",
   "execution_count": 62,
   "id": "80c43930",
   "metadata": {},
   "outputs": [],
   "source": [
    "df = pd.read_csv(\"car.data\")"
   ]
  },
  {
   "cell_type": "code",
   "execution_count": 63,
   "id": "0f0fd540",
   "metadata": {},
   "outputs": [
    {
     "data": {
      "text/html": [
       "<div>\n",
       "<style scoped>\n",
       "    .dataframe tbody tr th:only-of-type {\n",
       "        vertical-align: middle;\n",
       "    }\n",
       "\n",
       "    .dataframe tbody tr th {\n",
       "        vertical-align: top;\n",
       "    }\n",
       "\n",
       "    .dataframe thead th {\n",
       "        text-align: right;\n",
       "    }\n",
       "</style>\n",
       "<table border=\"1\" class=\"dataframe\">\n",
       "  <thead>\n",
       "    <tr style=\"text-align: right;\">\n",
       "      <th></th>\n",
       "      <th>buying</th>\n",
       "      <th>maint</th>\n",
       "      <th>doors</th>\n",
       "      <th>persons</th>\n",
       "      <th>lug_boot</th>\n",
       "      <th>safety</th>\n",
       "      <th>class</th>\n",
       "    </tr>\n",
       "  </thead>\n",
       "  <tbody>\n",
       "    <tr>\n",
       "      <th>0</th>\n",
       "      <td>vhigh</td>\n",
       "      <td>vhigh</td>\n",
       "      <td>2</td>\n",
       "      <td>2</td>\n",
       "      <td>small</td>\n",
       "      <td>low</td>\n",
       "      <td>unacc</td>\n",
       "    </tr>\n",
       "    <tr>\n",
       "      <th>1</th>\n",
       "      <td>vhigh</td>\n",
       "      <td>vhigh</td>\n",
       "      <td>2</td>\n",
       "      <td>2</td>\n",
       "      <td>small</td>\n",
       "      <td>med</td>\n",
       "      <td>unacc</td>\n",
       "    </tr>\n",
       "    <tr>\n",
       "      <th>2</th>\n",
       "      <td>vhigh</td>\n",
       "      <td>vhigh</td>\n",
       "      <td>2</td>\n",
       "      <td>2</td>\n",
       "      <td>small</td>\n",
       "      <td>high</td>\n",
       "      <td>unacc</td>\n",
       "    </tr>\n",
       "    <tr>\n",
       "      <th>3</th>\n",
       "      <td>vhigh</td>\n",
       "      <td>vhigh</td>\n",
       "      <td>2</td>\n",
       "      <td>2</td>\n",
       "      <td>med</td>\n",
       "      <td>low</td>\n",
       "      <td>unacc</td>\n",
       "    </tr>\n",
       "    <tr>\n",
       "      <th>4</th>\n",
       "      <td>vhigh</td>\n",
       "      <td>vhigh</td>\n",
       "      <td>2</td>\n",
       "      <td>2</td>\n",
       "      <td>med</td>\n",
       "      <td>med</td>\n",
       "      <td>unacc</td>\n",
       "    </tr>\n",
       "  </tbody>\n",
       "</table>\n",
       "</div>"
      ],
      "text/plain": [
       "  buying  maint  doors  persons  lug_boot  safety  class\n",
       "0  vhigh  vhigh      2        2     small     low  unacc\n",
       "1  vhigh  vhigh      2        2     small     med  unacc\n",
       "2  vhigh  vhigh      2        2     small    high  unacc\n",
       "3  vhigh  vhigh      2        2       med     low  unacc\n",
       "4  vhigh  vhigh      2        2       med     med  unacc"
      ]
     },
     "execution_count": 63,
     "metadata": {},
     "output_type": "execute_result"
    }
   ],
   "source": [
    "df.head()"
   ]
  },
  {
   "cell_type": "markdown",
   "id": "c27ee437",
   "metadata": {},
   "source": [
    "# Splitting labels and features"
   ]
  },
  {
   "cell_type": "code",
   "execution_count": 64,
   "id": "bf1d311f",
   "metadata": {},
   "outputs": [],
   "source": [
    "X = df.iloc[:, 0:6].values\n",
    "y = df.iloc[:,6]"
   ]
  },
  {
   "cell_type": "markdown",
   "id": "ed483d07",
   "metadata": {},
   "source": [
    "# Label Encoding"
   ]
  },
  {
   "cell_type": "code",
   "execution_count": 65,
   "id": "e75366fd",
   "metadata": {},
   "outputs": [],
   "source": [
    "LE = preprocessing.LabelEncoder()\n",
    "for i in range(len(X[0])):\n",
    "    X[:, i] = LE.fit_transform(X[:, i])"
   ]
  },
  {
   "cell_type": "code",
   "execution_count": 66,
   "id": "92eb2275",
   "metadata": {},
   "outputs": [
    {
     "name": "stdout",
     "output_type": "stream",
     "text": [
      "['0' '0' '0' ... '0' '2' '3']\n"
     ]
    }
   ],
   "source": [
    "labels_map = {\n",
    "    \"unacc\" : \"0\",\n",
    "    \"acc\": \"1\",\n",
    "    \"good\":\"2\", \n",
    "    \"vgood\":\"3\"\n",
    "}\n",
    "y = y.map(labels_map)\n",
    "y = np.array(y)\n",
    "print(y)"
   ]
  },
  {
   "cell_type": "markdown",
   "id": "c8f82c71",
   "metadata": {},
   "source": [
    "# Splitting dataframe"
   ]
  },
  {
   "cell_type": "code",
   "execution_count": 67,
   "id": "40a2a8a8",
   "metadata": {},
   "outputs": [],
   "source": [
    "X_train, X_test, y_train, y_test = train_test_split(X, y, test_size=0.2) "
   ]
  },
  {
   "cell_type": "markdown",
   "id": "3511ce74",
   "metadata": {},
   "source": [
    "# Model"
   ]
  },
  {
   "cell_type": "code",
   "execution_count": 68,
   "id": "ec44e9d8",
   "metadata": {},
   "outputs": [
    {
     "data": {
      "text/plain": [
       "KNeighborsClassifier(n_neighbors=25, weights='distance')"
      ]
     },
     "execution_count": 68,
     "metadata": {},
     "output_type": "execute_result"
    }
   ],
   "source": [
    "model = KNeighborsClassifier(n_neighbors=25, weights='distance')\n",
    "model.fit(X_train, y_train)"
   ]
  },
  {
   "cell_type": "markdown",
   "id": "232ae810",
   "metadata": {},
   "source": [
    "# Accuracy"
   ]
  },
  {
   "cell_type": "code",
   "execution_count": 69,
   "id": "a50ae465",
   "metadata": {
    "scrolled": false
   },
   "outputs": [
    {
     "data": {
      "text/plain": [
       "0.8208092485549133"
      ]
     },
     "execution_count": 69,
     "metadata": {},
     "output_type": "execute_result"
    }
   ],
   "source": [
    "model.score(X_test, y_test)"
   ]
  },
  {
   "cell_type": "code",
   "execution_count": 70,
   "id": "aa4acd71",
   "metadata": {},
   "outputs": [
    {
     "name": "stdout",
     "output_type": "stream",
     "text": [
      "buying   maint   doors   persons   lug_boot   safety   predicted-condition-of-the-car\n",
      "\n",
      "0         3         3         1         2         2             Unacceptable\n",
      "0         2         2         1         0         2             Unacceptable\n",
      "3         3         3         2         1         0             Unacceptable\n",
      "3         0         3         2         1         0             Unacceptable\n",
      "0         0         0         2         1         1             Unacceptable\n",
      "1         2         2         1         0         1             Unacceptable\n"
     ]
    }
   ],
   "source": [
    "prediction = model.predict(X_test)\n",
    "labels = [\"Unacceptable\", \"Acceptable\", \"Good\", \"Very Good\"]\n",
    "print(\"buying   maint   doors   persons   lug_boot   safety   predicted-condition-of-the-car\\n\")\n",
    "for i in range (len(X_test[0])):\n",
    "    for num in (X_test[i,:]):\n",
    "        print(num, end = \"         \")\n",
    "    print(\"    \" + labels[pd.to_numeric(prediction[i])])"
   ]
  }
 ],
 "metadata": {
  "kernelspec": {
   "display_name": "Python 3",
   "language": "python",
   "name": "python3"
  },
  "language_info": {
   "codemirror_mode": {
    "name": "ipython",
    "version": 3
   },
   "file_extension": ".py",
   "mimetype": "text/x-python",
   "name": "python",
   "nbconvert_exporter": "python",
   "pygments_lexer": "ipython3",
   "version": "3.8.8"
  }
 },
 "nbformat": 4,
 "nbformat_minor": 5
}
